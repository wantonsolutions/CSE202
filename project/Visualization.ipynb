{
 "cells": [
  {
   "cell_type": "code",
   "execution_count": 2,
   "metadata": {},
   "outputs": [],
   "source": [
    "import os\n",
    "import pickle\n",
    "import numpy as np\n",
    "import matplotlib.pyplot as plt\n",
    "from matplotlib.pyplot import figure\n",
    "import time\n",
    "%matplotlib inline\n",
    "%config InlineBackend.figure_format='retina'\n",
    "from IPython.display import clear_output\n",
    "import imageio\n",
    "from PIL import Image\n",
    "import glob\n",
    "from natsort import natsorted, ns\n",
    "import shutil"
   ]
  },
  {
   "cell_type": "markdown",
   "metadata": {},
   "source": [
    "### Import Paths "
   ]
  },
  {
   "cell_type": "code",
   "execution_count": 3,
   "metadata": {},
   "outputs": [],
   "source": [
    "paths = []\n",
    "for file in glob.glob(\"./files/*.pkl\"):\n",
    "    if \"path\" in file:\n",
    "        with open(file, 'rb') as f:\n",
    "            paths.append(pickle.load(f))"
   ]
  },
  {
   "cell_type": "markdown",
   "metadata": {},
   "source": [
    "### Helper Functions "
   ]
  },
  {
   "cell_type": "code",
   "execution_count": 4,
   "metadata": {},
   "outputs": [],
   "source": [
    "def find_diff(t1,t2):\n",
    "    diffs = []\n",
    "    for i in range(8):\n",
    "        e1 = t1[i]\n",
    "        e2 = t2[i]\n",
    "        if e1 != e2:\n",
    "            diffs.append(i)\n",
    "    return diffs\n",
    "\n",
    "def split_limbs(t):\n",
    "    limbs = []\n",
    "    temp = []\n",
    "    for i in range(8):\n",
    "        temp.append(t[i])\n",
    "        if (i+1) % 2 == 0:\n",
    "            limbs.append(temp)\n",
    "            temp = []\n",
    "    return limbs\n",
    "\n",
    "def find_centroid(t):\n",
    "    Xs = [t[2*i] for i in range(4)]\n",
    "    Ys = [t[2*i+1] for i in range(4)]\n",
    "    Xc = np.mean(Xs)\n",
    "    Yc = np.mean(Ys)\n",
    "    return (Xc,Yc)\n",
    "\n",
    "\n",
    "def get_holds(wall):\n",
    "    h = len(wall)\n",
    "    X,Y = [],[]\n",
    "    for i,w in enumerate(wall):\n",
    "        j_holds = list(np.where(np.array(w) == 1)[0])\n",
    "        X.extend(j_holds)\n",
    "        Y.extend([i for _ in range(len(j_holds))])\n",
    "    return X,Y"
   ]
  },
  {
   "cell_type": "code",
   "execution_count": 5,
   "metadata": {},
   "outputs": [
    {
     "data": {
      "text/plain": [
       "[2]"
      ]
     },
     "execution_count": 5,
     "metadata": {},
     "output_type": "execute_result"
    }
   ],
   "source": [
    "t1 = (1,2,3,4,5,6,7,8)\n",
    "t2 = (1,2,4,4,5,6,7,8)\n",
    "find_diff(t1,t2)"
   ]
  },
  {
   "cell_type": "code",
   "execution_count": 6,
   "metadata": {},
   "outputs": [
    {
     "data": {
      "text/plain": [
       "[[1, 2], [3, 4], [5, 6], [7, 8]]"
      ]
     },
     "execution_count": 6,
     "metadata": {},
     "output_type": "execute_result"
    }
   ],
   "source": [
    "t1 = (1,2,3,4,5,6,7,8)\n",
    "split_limbs(t1)"
   ]
  },
  {
   "cell_type": "code",
   "execution_count": 7,
   "metadata": {},
   "outputs": [
    {
     "data": {
      "text/plain": [
       "(4.0, 5.0)"
      ]
     },
     "execution_count": 7,
     "metadata": {},
     "output_type": "execute_result"
    }
   ],
   "source": [
    "find_centroid(t1)"
   ]
  },
  {
   "cell_type": "markdown",
   "metadata": {},
   "source": [
    "### Line for Body "
   ]
  },
  {
   "cell_type": "markdown",
   "metadata": {},
   "source": [
    "### Make all Plots"
   ]
  },
  {
   "cell_type": "code",
   "execution_count": 8,
   "metadata": {},
   "outputs": [],
   "source": [
    "colors = [\"red\", \"blue\", \"green\", \"orange\"]"
   ]
  },
  {
   "cell_type": "code",
   "execution_count": 9,
   "metadata": {},
   "outputs": [],
   "source": [
    "def make_gif(frame_folder, name):\n",
    "    frames = [Image.open(image) for image in natsorted(glob.glob(f\"{frame_folder}/*.jpg\"), key=lambda y: y.lower())]\n",
    "    frame_one = frames[0]\n",
    "    frame_one.save(name, format=\"GIF\", append_images=frames,\n",
    "               save_all=True, duration=500, loop=0)"
   ]
  },
  {
   "cell_type": "code",
   "execution_count": 10,
   "metadata": {
    "scrolled": false
   },
   "outputs": [
    {
     "name": "stdout",
     "output_type": "stream",
     "text": [
      "Folder didn't exist, creating instead\n",
      "Folder didn't exist, creating instead\n",
      "Folder didn't exist, creating instead\n",
      "Folder didn't exist, creating instead\n",
      "Folder didn't exist, creating instead\n",
      "Folder didn't exist, creating instead\n"
     ]
    }
   ],
   "source": [
    "for j,data in enumerate(paths):\n",
    "    path = data[\"path\"]\n",
    "    wall = data[\"wall\"]\n",
    "    num_moves = len(path)\n",
    "\n",
    "    # Plot Holds\n",
    "    X,Y = get_holds(wall)\n",
    "    X_lim = max(X)\n",
    "    Y_lim = max(Y)\n",
    "    \n",
    "    # Set up Directories\n",
    "    folder = f\"./anim/P{j}/\"\n",
    "    try:\n",
    "        shutil.rmtree(folder)\n",
    "        os.mkdir(folder)\n",
    "    except:\n",
    "        print(\"Folder didn't exist, creating instead\")\n",
    "        os.mkdir(folder)\n",
    "\n",
    "    for i in range(1,num_moves-1):\n",
    "        diff = find_diff(path[i], path[i+1])\n",
    "        limb = diff[0] // 2\n",
    "\n",
    "        t = path[i]\n",
    "        center = find_centroid(t)\n",
    "        figure(figsize=(8, 8), dpi=100)\n",
    "        for l,c in zip(split_limbs(t), colors):\n",
    "            plt.plot([center[1], l[1]], [center[0], l[0]], color=c,marker='.')\n",
    "        plt.gca().set_aspect('equal', adjustable='box')\n",
    "        plt.scatter(X,Y,s=1,color='black')\n",
    "        plt.xlim([-2,X_lim+2])\n",
    "        plt.ylim([-2,Y_lim+2])\n",
    "        plt.savefig(f\"./anim/P{j}/f{i}.jpg\", dpi=400)\n",
    "        plt.close()\n",
    "        \n",
    "    base = f\"./anim/P{j}\"\n",
    "    name = f\"./files/path{j}.gif\"\n",
    "    make_gif(base, name)"
   ]
  }
 ],
 "metadata": {
  "kernelspec": {
   "display_name": "Python 3 (ipykernel)",
   "language": "python",
   "name": "python3"
  },
  "language_info": {
   "codemirror_mode": {
    "name": "ipython",
    "version": 3
   },
   "file_extension": ".py",
   "mimetype": "text/x-python",
   "name": "python",
   "nbconvert_exporter": "python",
   "pygments_lexer": "ipython3",
   "version": "3.9.7"
  }
 },
 "nbformat": 4,
 "nbformat_minor": 4
}
